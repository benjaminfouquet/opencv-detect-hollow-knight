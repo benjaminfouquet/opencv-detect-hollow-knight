{
 "cells": [
  {
   "cell_type": "markdown",
   "metadata": {},
   "source": [
    "#### [MODIFIED] CAPTURE ON OBS THEN PLACE VIDEO IN IMAGES FOLDER\n",
    "#### Replace video_path with relevant path "
   ]
  },
  {
   "cell_type": "code",
   "execution_count": 11,
   "metadata": {},
   "outputs": [],
   "source": [
    "import os\n",
    "import cv2\n",
    "\n",
    "def split_video_into_images(video_path, output_folder):\n",
    "    # Create the output folder if it doesn't exist\n",
    "    os.makedirs(output_folder, exist_ok=True)\n",
    "\n",
    "    # Read the video\n",
    "    video = cv2.VideoCapture(video_path)\n",
    "\n",
    "    # Get the total number of frames in the video\n",
    "    total_frames = int(video.get(cv2.CAP_PROP_FRAME_COUNT))\n",
    "\n",
    "    # Initialize variables\n",
    "    export_count = 0\n",
    "    frame_count = 0\n",
    "\n",
    "    while True:\n",
    "        # Read a frame from the video\n",
    "        ret, frame = video.read()\n",
    "\n",
    "        # Break the loop if no more frames are available\n",
    "        if not ret:\n",
    "            break\n",
    "        \n",
    "        if frame_count < 200 or frame_count > total_frames - 200:\n",
    "            frame_count += 1\n",
    "            continue\n",
    "        \n",
    "        if frame_count % 4 == 0:\n",
    "            # Save the frame as an image\n",
    "            image_path = os.path.join(output_folder, f\"frame_{export_count}.jpg\")\n",
    "            export_count += 1\n",
    "            cv2.imwrite(image_path, frame)\n",
    "\n",
    "        # Increment the frame count\n",
    "        frame_count += 1\n",
    "\n",
    "    # Release the video object\n",
    "    video.release()\n",
    "\n",
    "# Example usage\n",
    "video_path = \"images/capture1.mkv\"\n",
    "video_name = os.path.splitext(os.path.basename(video_path))[0]\n",
    "output_folder = os.path.join(\"images\", video_name)\n",
    "\n",
    "split_video_into_images(video_path, output_folder)\n"
   ]
  }
 ],
 "metadata": {
  "kernelspec": {
   "display_name": ".venv",
   "language": "python",
   "name": "python3"
  },
  "language_info": {
   "codemirror_mode": {
    "name": "ipython",
    "version": 3
   },
   "file_extension": ".py",
   "mimetype": "text/x-python",
   "name": "python",
   "nbconvert_exporter": "python",
   "pygments_lexer": "ipython3",
   "version": "3.10.0"
  }
 },
 "nbformat": 4,
 "nbformat_minor": 2
}
